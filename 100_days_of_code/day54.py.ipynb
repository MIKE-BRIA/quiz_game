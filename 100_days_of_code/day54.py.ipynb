{
 "cells": [
  {
   "cell_type": "code",
   "execution_count": 2,
   "id": "82bc5fe9",
   "metadata": {},
   "outputs": [
    {
     "name": "stdout",
     "output_type": "stream",
     "text": [
      "        Cost  Quantity\n",
      "0     340.17         3\n",
      "1     974.94         4\n",
      "2     802.03         2\n",
      "3      29.08         3\n",
      "4      30.73         1\n",
      "...      ...       ...\n",
      "1019  763.91         1\n",
      "1020  311.13         3\n",
      "1021   66.05         5\n",
      "1022  618.14         1\n",
      "1023  868.06         4\n",
      "\n",
      "[1024 rows x 2 columns]\n"
     ]
    }
   ],
   "source": [
    "import pandas as pd\n",
    "\n",
    "df = pd.read_csv(\"Desktop/excelwork/Day54Totals.csv\")\n",
    "# Continue working with the DataFrame\n",
    "\n",
    "print(df)"
   ]
  },
  {
   "cell_type": "code",
   "execution_count": 8,
   "id": "1189fcc4",
   "metadata": {},
   "outputs": [
    {
     "name": "stdout",
     "output_type": "stream",
     "text": [
      "Total: 1557853.21\n"
     ]
    }
   ],
   "source": [
    "df['Total'] = df['Cost'] * df['Quantity']\n",
    "\n",
    "# Calculate the sum of the 'Total' column\n",
    "total = df['Total'].sum()\n",
    "\n",
    "print('Total:', total)"
   ]
  },
  {
   "cell_type": "code",
   "execution_count": null,
   "id": "af9d5eee",
   "metadata": {},
   "outputs": [],
   "source": []
  }
 ],
 "metadata": {
  "kernelspec": {
   "display_name": "Python 3 (ipykernel)",
   "language": "python",
   "name": "python3"
  },
  "language_info": {
   "codemirror_mode": {
    "name": "ipython",
    "version": 3
   },
   "file_extension": ".py",
   "mimetype": "text/x-python",
   "name": "python",
   "nbconvert_exporter": "python",
   "pygments_lexer": "ipython3",
   "version": "3.10.9"
  }
 },
 "nbformat": 4,
 "nbformat_minor": 5
}
